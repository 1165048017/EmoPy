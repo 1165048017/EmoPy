{
 "cells": [
  {
   "cell_type": "code",
   "execution_count": 1,
   "metadata": {},
   "outputs": [
    {
     "name": "stderr",
     "output_type": "stream",
     "text": [
      "Using TensorFlow backend.\n"
     ]
    }
   ],
   "source": [
    "%matplotlib inline\n",
    "from skimage import data, color, exposure, io\n",
    "import matplotlib.pyplot as plt\n",
    "import keras\n",
    "import numpy as np\n",
    "from keras.models import Sequential\n",
    "from keras.layers import Dense, Dropout, Flatten\n",
    "from keras.layers import Conv3D\n",
    "from keras.optimizers import RMSprop\n",
    "from keras.callbacks import ModelCheckpoint, Callback, ReduceLROnPlateau, LearningRateScheduler, EarlyStopping, TensorBoard\n",
    "from keras.callbacks import LambdaCallback\n",
    "from keras import backend as K\n",
    "\n",
    "import tensorflow as tf"
   ]
  },
  {
   "cell_type": "code",
   "execution_count": 5,
   "metadata": {},
   "outputs": [
    {
     "name": "stdout",
     "output_type": "stream",
     "text": [
      "(64, 64)\n"
     ]
    }
   ],
   "source": [
    "imageFile = 'images/S502_001_00000001.png'\n",
    "image = io.imread(imageFile)\n",
    "image.resize((64,64))\n",
    "image = color.rgb2gray(image)\n",
    "print(image.shape)"
   ]
  },
  {
   "cell_type": "code",
   "execution_count": 6,
   "metadata": {},
   "outputs": [
    {
     "name": "stdout",
     "output_type": "stream",
     "text": [
      "_________________________________________________________________\n",
      "Layer (type)                 Output Shape              Param #   \n",
      "=================================================================\n",
      "conv3d_2 (Conv3D)            (None, 10, 1, 64, 64)     40970     \n",
      "_________________________________________________________________\n",
      "flatten_2 (Flatten)          (None, 40960)             0         \n",
      "_________________________________________________________________\n",
      "dense_2 (Dense)              (None, 1)                 40961     \n",
      "=================================================================\n",
      "Total params: 81,931\n",
      "Trainable params: 81,931\n",
      "Non-trainable params: 0\n",
      "_________________________________________________________________\n"
     ]
    }
   ],
   "source": [
    "model = Sequential()\n",
    "model.add(Conv3D(filters = 10, kernel_size=(1,64,64), activation='relu', data_format='channels_first', input_shape=(1,1,64,64), padding='same'))\n",
    "# model.add(Conv2D(filters=12, kernel_size=(3,3), \n",
    "# activation='relu', input_shape=(28,28,1), padding='same'))\n",
    "model.add(Flatten())\n",
    "model.add(Dense(units=1, activation='softmax'))\n",
    "model.compile(optimizer='rmsprop',\n",
    "              loss='sparse_categorical_crossentropy',\n",
    "              metrics=['accuracy'])\n",
    "\n",
    "model.summary()"
   ]
  },
  {
   "cell_type": "code",
   "execution_count": 8,
   "metadata": {},
   "outputs": [
    {
     "name": "stdout",
     "output_type": "stream",
     "text": [
      "Train on 1 samples, validate on 1 samples\n",
      "Epoch 1/5\n",
      "1/1 [==============================] - 0s - loss: 0.0000e+00 - acc: 0.0000e+00 - val_loss: 0.0000e+00 - val_acc: 0.0000e+00\n",
      "Epoch 2/5\n",
      "1/1 [==============================] - 0s - loss: 0.0000e+00 - acc: 0.0000e+00 - val_loss: 0.0000e+00 - val_acc: 0.0000e+00\n",
      "Epoch 3/5\n",
      "1/1 [==============================] - 0s - loss: 0.0000e+00 - acc: 0.0000e+00 - val_loss: 0.0000e+00 - val_acc: 0.0000e+00\n",
      "Epoch 4/5\n",
      "1/1 [==============================] - 0s - loss: 0.0000e+00 - acc: 0.0000e+00 - val_loss: 0.0000e+00 - val_acc: 0.0000e+00\n",
      "Epoch 5/5\n",
      "1/1 [==============================] - 0s - loss: 0.0000e+00 - acc: 0.0000e+00 - val_loss: 0.0000e+00 - val_acc: 0.0000e+00\n"
     ]
    }
   ],
   "source": [
    "X_train = np.array([[[image]]])\n",
    "y_train = np.array([0.9])\n",
    "X_test = np.array([[[image]]])\n",
    "y_test = np.array([0.9])\n",
    "history = model.fit(X_train, \n",
    "                    y_train, \n",
    "                    batch_size=1, \n",
    "                    epochs=5,\n",
    "                    validation_data=(X_test, y_test),\n",
    "                    callbacks=[ReduceLROnPlateau(), EarlyStopping(patience=3)]\n",
    "                   )"
   ]
  }
 ],
 "metadata": {
  "kernelspec": {
   "display_name": "Python 3",
   "language": "python",
   "name": "python3"
  },
  "language_info": {
   "codemirror_mode": {
    "name": "ipython",
    "version": 3
   },
   "file_extension": ".py",
   "mimetype": "text/x-python",
   "name": "python",
   "nbconvert_exporter": "python",
   "pygments_lexer": "ipython3",
   "version": "3.6.3"
  }
 },
 "nbformat": 4,
 "nbformat_minor": 2
}
