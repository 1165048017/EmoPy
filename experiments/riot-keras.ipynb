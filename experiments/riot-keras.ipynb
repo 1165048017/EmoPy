{
 "cells": [
  {
   "cell_type": "code",
   "execution_count": 33,
   "metadata": {},
   "outputs": [],
   "source": [
    "%matplotlib inline\n",
    "from skimage import data, color, exposure, io\n",
    "from skimage.feature import hog\n",
    "import matplotlib.pyplot as plt\n",
    "import keras\n",
    "import random\n",
    "import numpy as np\n",
    "from keras.models import Sequential\n",
    "from keras.layers import Dense, Dropout, Flatten\n",
    "from keras.layers import Conv3D\n",
    "from keras.optimizers import RMSprop\n",
    "from keras.callbacks import ModelCheckpoint, Callback, ReduceLROnPlateau, LearningRateScheduler, EarlyStopping, TensorBoard\n",
    "from keras.callbacks import LambdaCallback\n",
    "from keras import backend as K\n",
    "\n",
    "import tensorflow as tf"
   ]
  },
  {
   "cell_type": "code",
   "execution_count": 28,
   "metadata": {},
   "outputs": [],
   "source": [
    "def extractFeatureVector(imageFile):\n",
    "    image = io.imread(imageFile)\n",
    "    image.resize((64,64))\n",
    "    image = color.rgb2gray(image)\n",
    "    print(image.shape)\n",
    "\n",
    "    featureVector, hog_image = hog(image, orientations=8, pixels_per_cell=(16, 16), cells_per_block=(1, 1), visualise=True) #, transform_sqrt=True, feature_vector=False)\n",
    "    return hog_image"
   ]
  },
  {
   "cell_type": "code",
   "execution_count": 29,
   "metadata": {},
   "outputs": [
    {
     "name": "stdout",
     "output_type": "stream",
     "text": [
      "_________________________________________________________________\n",
      "Layer (type)                 Output Shape              Param #   \n",
      "=================================================================\n",
      "conv3d_11 (Conv3D)           (None, 1, 1, 64, 10)      2621450   \n",
      "_________________________________________________________________\n",
      "flatten_11 (Flatten)         (None, 640)               0         \n",
      "_________________________________________________________________\n",
      "dense_11 (Dense)             (None, 1)                 641       \n",
      "=================================================================\n",
      "Total params: 2,622,091\n",
      "Trainable params: 2,622,091\n",
      "Non-trainable params: 0\n",
      "_________________________________________________________________\n"
     ]
    }
   ],
   "source": [
    "model = Sequential()\n",
    "model.add(Conv3D(filters = 10, kernel_size=(1,64,64), activation='sigmoid', input_shape=(1,1,64,64), padding='same'))\n",
    "# model.add(Conv2D(filters=12, kernel_size=(3,3), \n",
    "# activation='relu', input_shape=(28,28,1), padding='same'))\n",
    "model.add(Flatten())\n",
    "model.add(Dense(units=1, activation='sigmoid'))\n",
    "model.compile(optimizer='sgd',\n",
    "              loss='mean_squared_error',\n",
    "              metrics=['accuracy'])\n",
    "\n",
    "model.summary()"
   ]
  },
  {
   "cell_type": "code",
   "execution_count": 40,
   "metadata": {},
   "outputs": [
    {
     "name": "stdout",
     "output_type": "stream",
     "text": [
      "(64, 64)\n",
      "(64, 64)\n",
      "(64, 64)\n",
      "(64, 64)\n",
      "(64, 64)\n",
      "(64, 64)\n",
      "(64, 64)\n",
      "(64, 64)\n",
      "(64, 64)\n",
      "(64, 64)\n",
      "(10, 1, 1, 64, 64)\n"
     ]
    },
    {
     "name": "stderr",
     "output_type": "stream",
     "text": [
      "/Users/aperez/.pyenv/versions/3.6.3/lib/python3.6/site-packages/skimage/feature/_hog.py:119: skimage_deprecation: Default value of `block_norm`==`L1` is deprecated and will be changed to `L2-Hys` in v0.15\n",
      "  'be changed to `L2-Hys` in v0.15', skimage_deprecation)\n"
     ]
    },
    {
     "name": "stdout",
     "output_type": "stream",
     "text": [
      "(64, 64)\n",
      "(1, 1, 1, 64, 64)\n",
      "Train on 10 samples, validate on 1 samples\n",
      "Epoch 1/5\n",
      "10/10 [==============================] - 0s - loss: 0.0744 - acc: 0.0000e+00 - val_loss: 0.0679 - val_acc: 1.0000\n",
      "Epoch 2/5\n",
      "10/10 [==============================] - 0s - loss: 0.0404 - acc: 0.0000e+00 - val_loss: 0.0484 - val_acc: 1.0000\n",
      "Epoch 3/5\n",
      "10/10 [==============================] - 0s - loss: 0.0258 - acc: 0.0000e+00 - val_loss: 0.0377 - val_acc: 1.0000\n",
      "Epoch 4/5\n",
      "10/10 [==============================] - 0s - loss: 0.0181 - acc: 0.0000e+00 - val_loss: 0.0309 - val_acc: 1.0000\n",
      "Epoch 5/5\n",
      "10/10 [==============================] - 0s - loss: 0.0135 - acc: 0.0000e+00 - val_loss: 0.0263 - val_acc: 1.0000\n"
     ]
    }
   ],
   "source": [
    "x_temp = list()\n",
    "x_temp.append([[extractFeatureVector('images/S502_001_00000001.png')]])\n",
    "x_temp.append([[extractFeatureVector('images/S502_001_00000002.png')]])\n",
    "x_temp.append([[extractFeatureVector('images/S502_001_00000003.png')]])\n",
    "x_temp.append([[extractFeatureVector('images/S502_001_00000004.png')]])\n",
    "x_temp.append([[extractFeatureVector('images/S502_001_00000005.png')]])\n",
    "x_temp.append([[extractFeatureVector('images/S502_001_00000006.png')]])\n",
    "x_temp.append([[extractFeatureVector('images/S502_001_00000007.png')]])\n",
    "x_temp.append([[extractFeatureVector('images/S502_001_00000008.png')]])\n",
    "x_temp.append([[extractFeatureVector('images/S502_001_00000009.png')]])\n",
    "x_temp.append([[extractFeatureVector('images/S502_001_00000010.png')]])\n",
    "\n",
    "X_train = np.array(x_temp)\n",
    "print (X_train.shape)\n",
    "y_train = np.array([random.uniform(0.8,1)]*10)\n",
    "X_test = np.array([[[extractFeatureVector('images/S502_001_00000001.png')]]])\n",
    "print(X_test.shape)\n",
    "y_test = np.array([1])\n",
    "\n",
    "history = model.fit(X_train, \n",
    "                    y_train, \n",
    "                    batch_size=10, \n",
    "                    epochs=5,\n",
    "                    validation_data=(X_test, y_test),\n",
    "                    callbacks=[ReduceLROnPlateau(), EarlyStopping(patience=3)]\n",
    "                   )"
   ]
  }
 ],
 "metadata": {
  "kernelspec": {
   "display_name": "Python 3",
   "language": "python",
   "name": "python3"
  },
  "language_info": {
   "codemirror_mode": {
    "name": "ipython",
    "version": 3
   },
   "file_extension": ".py",
   "mimetype": "text/x-python",
   "name": "python",
   "nbconvert_exporter": "python",
   "pygments_lexer": "ipython3",
   "version": "3.6.3"
  }
 },
 "nbformat": 4,
 "nbformat_minor": 2
}
